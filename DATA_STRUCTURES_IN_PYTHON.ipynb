{
  "nbformat": 4,
  "nbformat_minor": 0,
  "metadata": {
    "colab": {
      "provenance": [],
      "authorship_tag": "ABX9TyPLhGitjWGsfMdc/gzL2pNi",
      "include_colab_link": true
    },
    "kernelspec": {
      "name": "python3",
      "display_name": "Python 3"
    },
    "language_info": {
      "name": "python"
    }
  },
  "cells": [
    {
      "cell_type": "markdown",
      "metadata": {
        "id": "view-in-github",
        "colab_type": "text"
      },
      "source": [
        "<a href=\"https://colab.research.google.com/github/mrpahadi2609/python/blob/main/DATA_STRUCTURES_IN_PYTHON.ipynb\" target=\"_parent\"><img src=\"https://colab.research.google.com/assets/colab-badge.svg\" alt=\"Open In Colab\"/></a>"
      ]
    },
    {
      "cell_type": "code",
      "execution_count": 1,
      "metadata": {
        "colab": {
          "base_uri": "https://localhost:8080/"
        },
        "id": "ttNgGX_EZqqx",
        "outputId": "b8221415-99fa-45ad-a454-09e4ff9c59a9"
      },
      "outputs": [
        {
          "output_type": "stream",
          "name": "stdout",
          "text": [
            "!dlroW ,olleH\n"
          ]
        }
      ],
      "source": [
        "## QUES 1) Write a code to reverse a string.\n",
        "def reverse_string(s):\n",
        "    return s[::-1]\n",
        "\n",
        "# Test the function\n",
        "sample_string = \"Hello, World!\"\n",
        "reversed_string = reverse_string(sample_string)\n",
        "print(reversed_string)\n"
      ]
    },
    {
      "cell_type": "code",
      "source": [
        "## QUES 2) Write a code to count the number of vowels in a string.\n",
        "def count_vowels(s):\n",
        "    vowels = \"aeiouAEIOU\"\n",
        "    count = 0\n",
        "    for char in s:\n",
        "        if char in vowels:\n",
        "            count += 1\n",
        "    return count\n",
        "\n",
        "# Test the function\n",
        "sample_string = \"Hello, World!\"\n",
        "vowel_count = count_vowels(sample_string)\n",
        "print(f\"The number of vowels in the string is: {vowel_count}\")\n"
      ],
      "metadata": {
        "colab": {
          "base_uri": "https://localhost:8080/"
        },
        "id": "bZOxHLgcZ-35",
        "outputId": "b6ef54e5-f704-4061-c9ff-98a810dee210"
      },
      "execution_count": 2,
      "outputs": [
        {
          "output_type": "stream",
          "name": "stdout",
          "text": [
            "The number of vowels in the string is: 3\n"
          ]
        }
      ]
    },
    {
      "cell_type": "code",
      "source": [
        "## QUES 3) Write a code to check if a given string is a palindrome or not.\n",
        "def is_palindrome(s):\n",
        "    # Removing any spaces and converting to lowercase for consistency\n",
        "    s = s.replace(\" \", \"\").lower()\n",
        "    # Comparing the string with its reverse\n",
        "    return s == s[::-1]\n",
        "\n",
        "# Test the function\n",
        "sample_string = \"A man a plan a canal Panama\"\n",
        "if is_palindrome(sample_string):\n",
        "    print(f'\"{sample_string}\" is a palindrome.')\n",
        "else:\n",
        "    print(f'\"{sample_string}\" is not a palindrome.')\n"
      ],
      "metadata": {
        "colab": {
          "base_uri": "https://localhost:8080/"
        },
        "id": "44Ikb538aURV",
        "outputId": "0f03861b-3a9d-4be6-92d9-7a6bb19f2809"
      },
      "execution_count": 3,
      "outputs": [
        {
          "output_type": "stream",
          "name": "stdout",
          "text": [
            "\"A man a plan a canal Panama\" is a palindrome.\n"
          ]
        }
      ]
    },
    {
      "cell_type": "code",
      "source": [
        "## QUES 4) Write a code to check if two given strings are anagrams of each other.\n",
        "def are_anagrams(str1, str2):\n",
        "    # Removing any spaces and converting to lowercase for consistency\n",
        "    str1 = str1.replace(\" \", \"\").lower()\n",
        "    str2 = str2.replace(\" \", \"\").lower()\n",
        "\n",
        "    # Sorting and comparing the characters of both strings\n",
        "    return sorted(str1) == sorted(str2)\n",
        "\n",
        "# Test the function\n",
        "string1 = \"Listen\"\n",
        "string2 = \"Silent\"\n",
        "if are_anagrams(string1, string2):\n",
        "    print(f'\"{string1}\" and \"{string2}\" are anagrams.')\n",
        "else:\n",
        "    print(f'\"{string1}\" and \"{string2}\" are not anagrams.')\n"
      ],
      "metadata": {
        "colab": {
          "base_uri": "https://localhost:8080/"
        },
        "id": "h8D3MKZCa23B",
        "outputId": "df63d13d-5d71-4e24-f2a9-5b8becd3a5e5"
      },
      "execution_count": 4,
      "outputs": [
        {
          "output_type": "stream",
          "name": "stdout",
          "text": [
            "\"Listen\" and \"Silent\" are anagrams.\n"
          ]
        }
      ]
    },
    {
      "cell_type": "code",
      "source": [
        "## QUES 5) Write a code to find all occurrences of a given substring within another string.\n",
        "def find_substring_occurrences(main_string, substring):\n",
        "    occurrences = []\n",
        "    start = 0\n",
        "    while start < len(main_string):\n",
        "        start = main_string.find(substring, start)\n",
        "        if start == -1:\n",
        "            break\n",
        "        occurrences.append(start)\n",
        "        start += len(substring)  # move to the next position after the found substring\n",
        "    return occurrences\n",
        "\n",
        "# Test the function\n",
        "main_string = \"This is a test. This test is only a test.\"\n",
        "substring = \"test\"\n",
        "occurrences = find_substring_occurrences(main_string, substring)\n",
        "print(f'The substring \"{substring}\" is found at positions: {occurrences}')\n"
      ],
      "metadata": {
        "colab": {
          "base_uri": "https://localhost:8080/"
        },
        "id": "A-92A3UvbMhR",
        "outputId": "8dcb3b44-10dc-4446-a88c-c47b377098d0"
      },
      "execution_count": 5,
      "outputs": [
        {
          "output_type": "stream",
          "name": "stdout",
          "text": [
            "The substring \"test\" is found at positions: [10, 21, 36]\n"
          ]
        }
      ]
    },
    {
      "cell_type": "code",
      "source": [
        "## QUES 6) Write a code to perform basic string compression using the counts of repeated characters.\n",
        "def compress_string(s):\n",
        "    compressed = []\n",
        "    count = 1\n",
        "\n",
        "    for i in range(1, len(s) + 1):\n",
        "        if i < len(s) and s[i] == s[i - 1]:\n",
        "            count += 1\n",
        "        else:\n",
        "            compressed.append(s[i - 1] + str(count))\n",
        "            count = 1\n",
        "\n",
        "    return ''.join(compressed)\n",
        "\n",
        "# Test the function\n",
        "sample_string = \"aaabbbcccaaa\"\n",
        "compressed_string = compress_string(sample_string)\n",
        "print(f'The compressed string is: {compressed_string}')\n"
      ],
      "metadata": {
        "colab": {
          "base_uri": "https://localhost:8080/"
        },
        "id": "ed5IbYV3bge6",
        "outputId": "d2ef6b8f-7c41-48a4-89f7-ba992d252498"
      },
      "execution_count": 6,
      "outputs": [
        {
          "output_type": "stream",
          "name": "stdout",
          "text": [
            "The compressed string is: a3b3c3a3\n"
          ]
        }
      ]
    },
    {
      "cell_type": "code",
      "source": [
        "#3 QUES 7) Write a code to determine if a string has all unique characters.\n",
        "def has_unique_characters(s):\n",
        "    # Using a set to keep track of characters seen so far\n",
        "    seen_characters = set()\n",
        "\n",
        "    for char in s:\n",
        "        if char in seen_characters:\n",
        "            return False\n",
        "        seen_characters.add(char)\n",
        "\n",
        "    return True\n",
        "\n",
        "# Test the function\n",
        "sample_string = \"abcdefg\"\n",
        "if has_unique_characters(sample_string):\n",
        "    print(f'The string \"{sample_string}\" has all unique characters.')\n",
        "else:\n",
        "    print(f'The string \"{sample_string}\" does not have all unique characters.')\n"
      ],
      "metadata": {
        "colab": {
          "base_uri": "https://localhost:8080/"
        },
        "id": "IbZBPLtlbv8x",
        "outputId": "251dcc29-50f5-4746-b38d-a65aaae5ec57"
      },
      "execution_count": 7,
      "outputs": [
        {
          "output_type": "stream",
          "name": "stdout",
          "text": [
            "The string \"abcdefg\" has all unique characters.\n"
          ]
        }
      ]
    },
    {
      "cell_type": "code",
      "source": [
        "## QUES 8) Write a code to convert a given string to uppercase or lowercase.\n",
        "def to_uppercase(s):\n",
        "    return s.upper()\n",
        "\n",
        "def to_lowercase(s):\n",
        "    return s.lower()\n",
        "\n",
        "# Test the functions\n",
        "sample_string = \"Hello, World!\"\n",
        "uppercase_string = to_uppercase(sample_string)\n",
        "lowercase_string = to_lowercase(sample_string)\n",
        "\n",
        "print(f'The original string is: {sample_string}')\n",
        "print(f'The uppercase string is: {uppercase_string}')\n",
        "print(f'The lowercase string is: {lowercase_string}')\n"
      ],
      "metadata": {
        "colab": {
          "base_uri": "https://localhost:8080/"
        },
        "id": "21vmYUIGcBjZ",
        "outputId": "e6492486-e1d8-47fd-d695-49d54dac09da"
      },
      "execution_count": 8,
      "outputs": [
        {
          "output_type": "stream",
          "name": "stdout",
          "text": [
            "The original string is: Hello, World!\n",
            "The uppercase string is: HELLO, WORLD!\n",
            "The lowercase string is: hello, world!\n"
          ]
        }
      ]
    },
    {
      "cell_type": "code",
      "source": [
        "## QUES 9) Write a code to count the number of words in a string.\n",
        "def count_words(s):\n",
        "    words = s.split()\n",
        "    return len(words)\n",
        "\n",
        "# Test the function\n",
        "sample_string = \"Hello, World! This is a test string.\"\n",
        "word_count = count_words(sample_string)\n",
        "print(f'The number of words in the string is: {word_count}')\n"
      ],
      "metadata": {
        "colab": {
          "base_uri": "https://localhost:8080/"
        },
        "id": "QFy6q4vAcO3S",
        "outputId": "1d4b9c3d-7c36-49a0-feab-829aa7f9aec1"
      },
      "execution_count": 9,
      "outputs": [
        {
          "output_type": "stream",
          "name": "stdout",
          "text": [
            "The number of words in the string is: 7\n"
          ]
        }
      ]
    },
    {
      "cell_type": "code",
      "source": [
        "## QUES 10) Write a code to concatenate two strings without using the + operator.\n",
        "def concatenate_strings(str1, str2):\n",
        "    return \"{}{}\".format(str1, str2)\n",
        "\n",
        "# Test the function\n",
        "string1 = \"Hello\"\n",
        "string2 = \"World\"\n",
        "concatenated_string = concatenate_strings(string1, string2)\n",
        "print(f'The concatenated string is: {concatenated_string}')\n"
      ],
      "metadata": {
        "colab": {
          "base_uri": "https://localhost:8080/"
        },
        "id": "cAR02IBMcdQz",
        "outputId": "3e9e866c-a6f0-42ed-a82c-db7ee2fa1fb6"
      },
      "execution_count": 10,
      "outputs": [
        {
          "output_type": "stream",
          "name": "stdout",
          "text": [
            "The concatenated string is: HelloWorld\n"
          ]
        }
      ]
    },
    {
      "cell_type": "code",
      "source": [
        "## QUES 11) Write a code to remove all occurrences of a specific element from a list.\n",
        "def remove_element(lst, element):\n",
        "    return [x for x in lst if x != element]\n",
        "\n",
        "# Test the function\n",
        "sample_list = [1, 2, 3, 4, 3, 5, 3, 6]\n",
        "element_to_remove = 3\n",
        "new_list = remove_element(sample_list, element_to_remove)\n",
        "print(f'The new list after removing {element_to_remove} is: {new_list}')\n"
      ],
      "metadata": {
        "colab": {
          "base_uri": "https://localhost:8080/"
        },
        "id": "8vi9Ie0-crby",
        "outputId": "effb5266-1c22-4540-eb62-e34793d5559d"
      },
      "execution_count": 11,
      "outputs": [
        {
          "output_type": "stream",
          "name": "stdout",
          "text": [
            "The new list after removing 3 is: [1, 2, 4, 5, 6]\n"
          ]
        }
      ]
    },
    {
      "cell_type": "code",
      "source": [
        "## QUES 12) Implement a code to find the second largest number in a given list of integers.\n",
        "def find_second_largest(lst):\n",
        "    # Remove duplicates by converting the list to a set, then back to a list\n",
        "    unique_lst = list(set(lst))\n",
        "\n",
        "    if len(unique_lst) < 2:\n",
        "        return None  # Not enough elements to find the second largest\n",
        "\n",
        "    unique_lst.sort(reverse=True)  # Sort the list in descending order\n",
        "    return unique_lst[1]  # The second element is the second largest\n",
        "\n",
        "# Test the function\n",
        "sample_list = [10, 20, 4, 45, 99, 99, 20]\n",
        "second_largest = find_second_largest(sample_list)\n",
        "if second_largest is not None:\n",
        "    print(f'The second largest number in the list is: {second_largest}')\n",
        "else:\n",
        "    print('The list does not have enough unique elements to determine the second largest number.')\n"
      ],
      "metadata": {
        "colab": {
          "base_uri": "https://localhost:8080/"
        },
        "id": "B2vWx98Mc5tK",
        "outputId": "3ccc8534-c680-4c67-f36b-723e3bf2bd3f"
      },
      "execution_count": 12,
      "outputs": [
        {
          "output_type": "stream",
          "name": "stdout",
          "text": [
            "The second largest number in the list is: 45\n"
          ]
        }
      ]
    },
    {
      "cell_type": "code",
      "source": [
        "## QUES 13)Create a code to count the occurrences of each element in a list and return a dictionary with elements as\n",
        "# keys and their counts as values.\n",
        "def count_occurrences(lst):\n",
        "    occurrence_dict = {}\n",
        "    for element in lst:\n",
        "        if element in occurrence_dict:\n",
        "            occurrence_dict[element] += 1\n",
        "        else:\n",
        "            occurrence_dict[element] = 1\n",
        "    return occurrence_dict\n",
        "\n",
        "# Test the function\n",
        "sample_list = [1, 2, 2, 3, 4, 4, 4, 5, 5, 5, 5]\n",
        "occurrences = count_occurrences(sample_list)\n",
        "print(f'The occurrences of each element are: {occurrences}')\n"
      ],
      "metadata": {
        "colab": {
          "base_uri": "https://localhost:8080/"
        },
        "id": "xt8pFEz-dJzm",
        "outputId": "6748eabe-a991-4c89-8c23-5fae04bf2951"
      },
      "execution_count": 13,
      "outputs": [
        {
          "output_type": "stream",
          "name": "stdout",
          "text": [
            "The occurrences of each element are: {1: 1, 2: 2, 3: 1, 4: 3, 5: 4}\n"
          ]
        }
      ]
    },
    {
      "cell_type": "code",
      "source": [
        "## QUES 14) Write a code to reverse a list in-place without using any built-in reverse functions.\n",
        "def reverse_list_in_place(lst):\n",
        "    left = 0\n",
        "    right = len(lst) - 1\n",
        "\n",
        "    while left < right:\n",
        "        # Swap the elements at the left and right indices\n",
        "        lst[left], lst[right] = lst[right], lst[left]\n",
        "\n",
        "        # Move the pointers towards the center\n",
        "        left += 1\n",
        "        right -= 1\n",
        "\n",
        "# Test the function\n",
        "sample_list = [1, 2, 3, 4, 5]\n",
        "reverse_list_in_place(sample_list)\n",
        "print(f'The reversed list is: {sample_list}')\n"
      ],
      "metadata": {
        "colab": {
          "base_uri": "https://localhost:8080/"
        },
        "id": "YfC2KbjUddvU",
        "outputId": "00acd7e4-4066-4ee6-c424-a1901bacea16"
      },
      "execution_count": 14,
      "outputs": [
        {
          "output_type": "stream",
          "name": "stdout",
          "text": [
            "The reversed list is: [5, 4, 3, 2, 1]\n"
          ]
        }
      ]
    },
    {
      "cell_type": "code",
      "source": [
        "## QUES 15) Implement a code to find and remove duplicates from a list while preserving the original order of\n",
        "# elements.\n",
        "def remove_duplicates(lst):\n",
        "    seen = set()\n",
        "    result = []\n",
        "    for element in lst:\n",
        "        if element not in seen:\n",
        "            result.append(element)\n",
        "            seen.add(element)\n",
        "    return result\n",
        "\n",
        "# Test the function\n",
        "sample_list = [1, 2, 2, 3, 4, 4, 4, 5, 5, 5, 5]\n",
        "unique_list = remove_duplicates(sample_list)\n",
        "print(f'The list after removing duplicates is: {unique_list}')"
      ],
      "metadata": {
        "colab": {
          "base_uri": "https://localhost:8080/"
        },
        "id": "o-JlOIDDdro5",
        "outputId": "b7ba2499-f0e2-4ff7-a2c7-d468231863b7"
      },
      "execution_count": 15,
      "outputs": [
        {
          "output_type": "stream",
          "name": "stdout",
          "text": [
            "The list after removing duplicates is: [1, 2, 3, 4, 5]\n"
          ]
        }
      ]
    },
    {
      "cell_type": "code",
      "source": [
        "## QUES 16) Create a code to check if a given list is sorted (either in ascending or descending order) or not.\n",
        "def is_sorted(lst):\n",
        "    ascending = all(lst[i] <= lst[i + 1] for i in range(len(lst) - 1))\n",
        "    descending = all(lst[i] >= lst[i + 1] for i in range(len(lst) - 1))\n",
        "    return ascending or descending\n",
        "\n",
        "# Test the function\n",
        "sample_list_asc = [1, 2, 3, 4, 5]\n",
        "sample_list_desc = [5, 4, 3, 2, 1]\n",
        "sample_list_unsorted = [3, 1, 4, 2, 5]\n",
        "\n",
        "print(f'The list {sample_list_asc} is sorted: {is_sorted(sample_list_asc)}')\n",
        "print(f'The list {sample_list_desc} is sorted: {is_sorted(sample_list_desc)}')\n",
        "print(f'The list {sample_list_unsorted} is sorted: {is_sorted(sample_list_unsorted)}')\n"
      ],
      "metadata": {
        "colab": {
          "base_uri": "https://localhost:8080/"
        },
        "id": "PcaBcoPkeFbm",
        "outputId": "d2f67045-cb68-4d38-93b2-db0c2e968c6e"
      },
      "execution_count": 16,
      "outputs": [
        {
          "output_type": "stream",
          "name": "stdout",
          "text": [
            "The list [1, 2, 3, 4, 5] is sorted: True\n",
            "The list [5, 4, 3, 2, 1] is sorted: True\n",
            "The list [3, 1, 4, 2, 5] is sorted: False\n"
          ]
        }
      ]
    },
    {
      "cell_type": "code",
      "source": [
        "## QUES 17) Write a code to merge two sorted lists into a single sorted list.\n",
        "def merge_sorted_lists(list1, list2):\n",
        "    merged_list = []\n",
        "    i, j = 0, 0\n",
        "\n",
        "    # Merge the lists until one is exhausted\n",
        "    while i < len(list1) and j < len(list2):\n",
        "        if list1[i] < list2[j]:\n",
        "            merged_list.append(list1[i])\n",
        "            i += 1\n",
        "        else:\n",
        "            merged_list.append(list2[j])\n",
        "            j += 1\n",
        "\n",
        "    # Add the remaining elements from list1, if any\n",
        "    while i < len(list1):\n",
        "        merged_list.append(list1[i])\n",
        "        i += 1\n",
        "\n",
        "    # Add the remaining"
      ],
      "metadata": {
        "id": "AUNAUtUwebHP"
      },
      "execution_count": 18,
      "outputs": []
    },
    {
      "cell_type": "code",
      "source": [
        "## QUES 18) Implement a code to find the intersection of two given lists.\n",
        "def find_intersection(list1, list2):\n",
        "    # Convert both lists to sets and find the intersection\n",
        "    intersection = set(list1) & set(list2)\n",
        "    return list(intersection)\n",
        "\n",
        "# Test the function\n",
        "list1 = [1, 2, 2, 3, 4, 5]\n",
        "list2 = [2, 2, 4, 6, 7, 8]\n",
        "intersection = find_intersection(list1, list2)\n",
        "print(f'The intersection of the two lists is: {intersection}')\n"
      ],
      "metadata": {
        "colab": {
          "base_uri": "https://localhost:8080/"
        },
        "id": "xbCtvQ-nepex",
        "outputId": "1b036894-cc84-4c97-9e75-536c1f26184c"
      },
      "execution_count": 19,
      "outputs": [
        {
          "output_type": "stream",
          "name": "stdout",
          "text": [
            "The intersection of the two lists is: [2, 4]\n"
          ]
        }
      ]
    },
    {
      "cell_type": "code",
      "source": [
        "## QUES 19) Create a code to find the union of two lists without duplicates.\n",
        "def find_union(list1, list2):\n",
        "    # Convert both lists to sets and find the union\n",
        "    union_set = set(list1) | set(list2)\n",
        "    return list(union_set)\n",
        "\n",
        "# Test the function\n",
        "list1 = [1, 2, 2, 3, 4, 5]\n",
        "list2 = [2, 2, 4, 6, 7, 8]\n",
        "union = find_union(list1, list2)\n",
        "print(f'The union of the two lists without duplicates is: {union}')\n"
      ],
      "metadata": {
        "colab": {
          "base_uri": "https://localhost:8080/"
        },
        "id": "1E0HzEjOe-3O",
        "outputId": "2eec62e9-3130-428f-ee51-a328e606b9ba"
      },
      "execution_count": 20,
      "outputs": [
        {
          "output_type": "stream",
          "name": "stdout",
          "text": [
            "The union of the two lists without duplicates is: [1, 2, 3, 4, 5, 6, 7, 8]\n"
          ]
        }
      ]
    },
    {
      "cell_type": "code",
      "source": [
        "## QUES 20 ) Write a code to shuffle a given list randomly without using any built-in shuffle functions.\n",
        "import random\n",
        "\n",
        "def shuffle_list(input_list):\n",
        "    # Get the length of the list\n",
        "    n = len(input_list)\n",
        "\n",
        "    # Iterate through the list\n",
        "    for i in range(n):\n",
        "        # Generate a random index\n",
        "        j = random.randint(0, n-1)\n",
        "\n",
        "        # Swap the elements at indices i and j\n",
        "        input_list[i], input_list[j] = input_list[j], input_list[i]\n",
        "\n",
        "    return input_list\n",
        "\n",
        "# Example usage\n",
        "input_list = [1, 2, 3, 4, 5, 6]\n",
        "shuffled_list = shuffle_list(input_list)\n",
        "print(\"Shuffled list:\", shuffled_list)"
      ],
      "metadata": {
        "colab": {
          "base_uri": "https://localhost:8080/"
        },
        "id": "VWKRK-7gfRiJ",
        "outputId": "aa7c64f8-9cc0-4e7a-f7eb-2971f11afe28"
      },
      "execution_count": 21,
      "outputs": [
        {
          "output_type": "stream",
          "name": "stdout",
          "text": [
            "Shuffled list: [6, 4, 5, 2, 3, 1]\n"
          ]
        }
      ]
    },
    {
      "cell_type": "code",
      "source": [
        "## QUES 21) Write a code that takes two tuples as input and returns a new tuple containing elements that are\n",
        "# common to both input tuples.\n",
        "def common_elements(tuple1, tuple2):\n",
        "    # Convert tuples to sets to find common elements\n",
        "    set1 = set(tuple1)\n",
        "    set2 = set(tuple2)\n",
        "\n",
        "    # Find common elements using set intersection\n",
        "    common_set = set1.intersection(set2)\n",
        "\n",
        "    # Convert the set back to a tuple\n",
        "    common_tuple = tuple(common_set)\n",
        "\n",
        "    return common_tuple\n",
        "\n",
        "# Example usage\n",
        "tuple1 = (1, 2, 3, 4, 5)\n",
        "tuple2 = (4, 5, 6, 7, 8)\n",
        "result = common_elements(tuple1, tuple2)\n",
        "print(\"Common elements:\", result)"
      ],
      "metadata": {
        "colab": {
          "base_uri": "https://localhost:8080/"
        },
        "id": "FSImKmOjfjzA",
        "outputId": "c50d279a-e554-4c87-cb26-ffebf088a5ee"
      },
      "execution_count": 22,
      "outputs": [
        {
          "output_type": "stream",
          "name": "stdout",
          "text": [
            "Common elements: (4, 5)\n"
          ]
        }
      ]
    },
    {
      "cell_type": "code",
      "source": [
        "## QUES 22) Create a code that prompts the user to enter two sets of integers separated by commas. Then, print the\n",
        "# intersection of these two sets.\n",
        "def get_set_from_input(prompt):\n",
        "    # Prompt the user to enter a set of integers separated by commas\n",
        "    input_str = input(prompt)\n",
        "    # Convert the input string to a set of integers\n",
        "    input_set = set(map(int, input_str.split(',')))\n",
        "    return input_set\n",
        "\n",
        "def main():\n",
        "    # Get the first set of integers from the user\n",
        "    set1 = get_set_from_input(\"Enter the first set of integers separated by commas: \")\n",
        "    # Get the second set of integers from the user\n",
        "    set2 = get_set_from_input(\"Enter the second set of integers separated by commas: \")\n",
        "\n",
        "    # Find the intersection of the two sets\n",
        "    intersection = set1.intersection(set2)\n",
        "\n",
        "    # Print the intersection\n",
        "    print(\"Intersection of the two sets:\", intersection)\n",
        "\n",
        "# Run the main function\n",
        "# Change '_name_' to '__name__'\n",
        "if __name__ == \"__main__\":\n",
        "    main()"
      ],
      "metadata": {
        "colab": {
          "base_uri": "https://localhost:8080/"
        },
        "id": "QjbM9KfJf_la",
        "outputId": "3b158381-c1dd-4199-e956-36fdf1212b10"
      },
      "execution_count": 25,
      "outputs": [
        {
          "output_type": "stream",
          "name": "stdout",
          "text": [
            "Enter the first set of integers separated by commas: 4, 7, 10,22\n",
            "Enter the second set of integers separated by commas: 6, 8,14,18\n",
            "Intersection of the two sets: set()\n"
          ]
        }
      ]
    },
    {
      "cell_type": "code",
      "source": [
        "## QUES 23) Write a code to concatenate two tuples. The function should take two tuples as input and return a new\n",
        "# tuple containing elements from both input tuples.\n",
        "def concatenate_tuples(tuple1, tuple2):\n",
        "    # Concatenate the two tuples\n",
        "    concatenated_tuple = tuple1 + tuple2\n",
        "    return concatenated_tuple\n",
        "\n",
        "# Example usage\n",
        "tuple1 = (1, 2, 3)\n",
        "tuple2 = (4, 5, 6)\n",
        "result = concatenate_tuples(tuple1, tuple2)\n",
        "print(\"Concatenated tuple:\", result)"
      ],
      "metadata": {
        "colab": {
          "base_uri": "https://localhost:8080/"
        },
        "id": "EJY4Gdulggvn",
        "outputId": "5d60174b-6d08-47c5-de61-c0565b2467f5"
      },
      "execution_count": 26,
      "outputs": [
        {
          "output_type": "stream",
          "name": "stdout",
          "text": [
            "Concatenated tuple: (1, 2, 3, 4, 5, 6)\n"
          ]
        }
      ]
    },
    {
      "cell_type": "code",
      "source": [
        "## QUES 24) Develop a code that prompts the user to input two sets of strings. Then, print the elements that are\n",
        "# present in the first set but not in the second set.\n",
        "def get_set_from_input(prompt):\n",
        "    # Prompt the user to enter a set of strings separated by commas\n",
        "    input_str = input(prompt)\n",
        "    # Convert the input string to a set of strings\n",
        "    input_set = set(input_str.split(','))\n",
        "    return input_set\n",
        "\n",
        "#The second definition of get_set_from_input has been removed as it leads to an IndentationError.\n",
        "#Removed the second definition of get_set_from_input\n",
        "#Removed the second def get_set_from_input(prompt):\n",
        "\n",
        "def main():\n",
        "    # Get the first set of strings from the user\n",
        "    set1 = get_set_from_input(\"Enter the first set of strings separated by commas: \")\n",
        "    # Get the second set of strings from the user\n",
        "    set2 = get_set_from_input(\"Enter the second set of strings separated by commas: \")\n",
        "\n",
        "    # Find the elements that are present in the first set but not in the second set\n",
        "    difference = set1.difference(set2)\n",
        "\n",
        "    # Print the elements that are present in the first set but not in the second set\n",
        "    print(\"Elements present in the first set but not in the second set:\", difference)\n",
        "\n",
        "# Run the main function\n",
        "# Changed '_name_' to '__name__' to\n",
        "#If you intend to call the function when the script is run, use:\n",
        "if __name__ == \"__main__\":\n",
        "    main()"
      ],
      "metadata": {
        "colab": {
          "base_uri": "https://localhost:8080/"
        },
        "id": "gFhp_HwXhEj0",
        "outputId": "daaa5fe6-9562-4beb-d157-d0b27931304d"
      },
      "execution_count": 29,
      "outputs": [
        {
          "output_type": "stream",
          "name": "stdout",
          "text": [
            "Enter the first set of strings separated by commas: 12, 4,23,34\n",
            "Enter the second set of strings separated by commas: 22,31,46,52\n",
            "Elements present in the first set but not in the second set: {'23', '12', ' 4', '34'}\n"
          ]
        }
      ]
    },
    {
      "cell_type": "code",
      "source": [
        "## QUES 25) Create a code that takes a tuple and two integers as input. The function should return a new tuple\n",
        "# containing elements from the original tuple within the specified range of indices.\n",
        "def slice_tuple(input_tuple, start_index, end_index):\n",
        "    # Return a new tuple containing elements within the specified range of indices\n",
        "    sliced_tuple = input_tuple[start_index:end_index]\n",
        "    return sliced_tuple\n",
        "\n",
        "# Example usage\n",
        "input_tuple = (10, 20, 30, 40, 50, 60)\n",
        "start_index = 2\n",
        "end_index = 5\n",
        "result = slice_tuple(input_tuple, start_index, end_index)\n",
        "print(\"Sliced tuple:\", result)"
      ],
      "metadata": {
        "colab": {
          "base_uri": "https://localhost:8080/"
        },
        "id": "u8H0Jcd9hbIM",
        "outputId": "9e7f5277-a0ae-4600-9242-9866c241b2e6"
      },
      "execution_count": 30,
      "outputs": [
        {
          "output_type": "stream",
          "name": "stdout",
          "text": [
            "Sliced tuple: (30, 40, 50)\n"
          ]
        }
      ]
    },
    {
      "cell_type": "code",
      "source": [
        "## QUES 26) Write a code that prompts the user to input two sets of characters. Then, print the union of these two sets.\n",
        "def get_set_from_input(prompt):\n",
        "    # Prompt the user to enter a set of characters separated by commas\n",
        "    input_str = input(prompt)\n",
        "    # Convert the input string to a set of characters\n",
        "    input_set = set(input_str.split(','))\n",
        "    return input_set\n",
        "\n",
        "def main():\n",
        "    # Get the first set of characters from the user\n",
        "    set1 = get_set_from_input(\"Enter the first set of characters separated by commas: \")\n",
        "    # Get the second set of characters from the user\n",
        "    set2 = get_set_from_input(\"Enter the second set of characters separated by commas: \")\n",
        "\n",
        "    # Find the union of the two sets\n",
        "    union_set = set1.union(set2)\n",
        "\n",
        "    # Print the union of the two sets\n",
        "    print(\"Union of the two sets:\", union_set)\n",
        "\n",
        "# Run the main function\n",
        "# Changed '_name_' to '__name__' to fix the NameError\n",
        "if __name__ == \"__main__\":\n",
        "    main()"
      ],
      "metadata": {
        "colab": {
          "base_uri": "https://localhost:8080/"
        },
        "id": "jT04Cw4Sit-0",
        "outputId": "bd25efd9-55ad-4529-993e-7383e3cc2c16"
      },
      "execution_count": 32,
      "outputs": [
        {
          "output_type": "stream",
          "name": "stdout",
          "text": [
            "Enter the first set of characters separated by commas: 13,15,16,17\n",
            "Enter the second set of characters separated by commas: 10,21,31,19\n",
            "Union of the two sets: {'17', '31', '15', '21', '19', '16', '10', '13'}\n"
          ]
        }
      ]
    },
    {
      "cell_type": "code",
      "source": [
        "## QUES 27 Develop a code that takes a tuple of integers as input. The function should return the maximum and\n",
        "# minimum values from the tuple using tuple unpacking.\n",
        "def find_max_min(input_tuple):\n",
        "    # Unpack the tuple to find the maximum and minimum values\n",
        "    max_value = max(input_tuple)\n",
        "    min_value = min(input_tuple)\n",
        "    return max_value, min_value\n",
        "\n",
        "# Example usage\n",
        "input_tuple = (10, 20, 30, 40, 50, 60)\n",
        "max_value, min_value = find_max_min(input_tuple)\n",
        "print(\"Maximum value:\", max_value)\n",
        "print(\"Minimum value:\", min_value)"
      ],
      "metadata": {
        "colab": {
          "base_uri": "https://localhost:8080/"
        },
        "id": "myjEUVIPjAgR",
        "outputId": "e2244896-f8d9-4dd2-cfbb-f2d0a04ddcd3"
      },
      "execution_count": 33,
      "outputs": [
        {
          "output_type": "stream",
          "name": "stdout",
          "text": [
            "Maximum value: 60\n",
            "Minimum value: 10\n"
          ]
        }
      ]
    },
    {
      "cell_type": "code",
      "source": [
        "## QUES 28) Create a code that defines two sets of integers. Then, print the union, intersection, and difference of these\n",
        "# two sets.\n",
        "def main():\n",
        "    # Define two sets of integers\n",
        "    set1 = {1, 2, 3, 4, 5}\n",
        "    set2 = {4, 5, 6, 7, 8}\n",
        "\n",
        "    # Find the union of the two sets\n",
        "    union_set = set1.union(set2)\n",
        "    print(\"Union of the two sets:\", union_set)\n",
        "\n",
        "    # Find the intersection of the two sets\n",
        "    intersection_set = set1.intersection(set2)\n",
        "    print(\"Intersection of the two sets:\", intersection_set)\n",
        "\n",
        "    # Find the difference of the two sets (elements in set1 but not in set2)\n",
        "    difference_set = set1.difference(set2)\n",
        "    print(\"Difference of the two sets (set1 - set2):\", difference_set)\n",
        "\n",
        "# Run the main function\n",
        "# Changed '_name_' to '__name__' to fix the NameError\n",
        "if __name__ == \"__main__\":\n",
        "    main()"
      ],
      "metadata": {
        "colab": {
          "base_uri": "https://localhost:8080/"
        },
        "id": "9sFPlbcylwZM",
        "outputId": "445adc13-f2ec-4c69-8208-e496bc3f0d8d"
      },
      "execution_count": 35,
      "outputs": [
        {
          "output_type": "stream",
          "name": "stdout",
          "text": [
            "Union of the two sets: {1, 2, 3, 4, 5, 6, 7, 8}\n",
            "Intersection of the two sets: {4, 5}\n",
            "Difference of the two sets (set1 - set2): {1, 2, 3}\n"
          ]
        }
      ]
    },
    {
      "cell_type": "code",
      "source": [
        "## QUES 29) Write a code that takes a tuple and an element as input. The function should return the count of\n",
        "# occurrences of the given element in the tuple.\n",
        "def count_occurrences(input_tuple, element):\n",
        "    # Return the count of occurrences of the given element in the tuple\n",
        "    count = input_tuple.count(element)\n",
        "    return count\n",
        "\n",
        "# Example usage\n",
        "input_tuple = (10, 20, 30, 20, 40, 20)\n",
        "element = 20\n",
        "result = count_occurrences(input_tuple, element)\n",
        "print(\"Count of occurrences of\", element, \"in the tuple:\", result)"
      ],
      "metadata": {
        "colab": {
          "base_uri": "https://localhost:8080/"
        },
        "id": "xFoYcjg9mDhS",
        "outputId": "70f108b1-fac7-4dc3-e68c-fc5bfc34848c"
      },
      "execution_count": 36,
      "outputs": [
        {
          "output_type": "stream",
          "name": "stdout",
          "text": [
            "Count of occurrences of 20 in the tuple: 3\n"
          ]
        }
      ]
    },
    {
      "cell_type": "code",
      "source": [
        "## QUES 30) Develop a code that prompts the user to input two sets of strings. Then, print the symmetric difference of\n",
        "# these two sets.\n",
        "def get_set_from_input(prompt):\n",
        "    # Prompt the user to enter a set of strings separated by commas\n",
        "    input_str = input(prompt)\n",
        "    # Convert the input string to a set of strings\n",
        "    input_set = set(input_str.split(','))\n",
        "    return input_set\n",
        "\n",
        "def main():\n",
        "    # Get the first set of strings from the user\n",
        "    set1 = get_set_from_input(\"Enter the first set of strings separated by commas: \")\n",
        "    # Get the second set of strings from the user\n",
        "    set2 = get_set_from_input(\"Enter the second set of strings separated by commas: \")\n",
        "\n",
        "    # Find the symmetric difference of the two sets\n",
        "    symmetric_difference = set1.symmetric_difference(set2)\n",
        "\n",
        "    # Print the symmetric difference\n",
        "    print(\"Symmetric difference of the two sets:\", symmetric_difference)\n",
        "\n",
        "# Run the main function\n",
        "# Changed '_name_' to '__name__' to fix the NameError\n",
        "if __name__ == \"__main__\":\n",
        "    main()"
      ],
      "metadata": {
        "colab": {
          "base_uri": "https://localhost:8080/"
        },
        "id": "RXe6lOtAme6o",
        "outputId": "68253bc9-9db8-4511-cf4b-374469ae4c15"
      },
      "execution_count": 38,
      "outputs": [
        {
          "output_type": "stream",
          "name": "stdout",
          "text": [
            "Enter the first set of strings separated by commas: 11, 9, 3,5\n",
            "Enter the second set of strings separated by commas: 10,21,14,17\n",
            "Symmetric difference of the two sets: {'17', '5', ' 3', ' 9', '21', '11', '10', '14'}\n"
          ]
        }
      ]
    },
    {
      "cell_type": "code",
      "source": [
        "## QUES 31) Write a code that takes a list of words as input and returns a dictionary where the keys are unique words\n",
        "# and the values are the frequencies of those words in the input list.\n",
        "def word_frequencies(word_list):\n",
        "    frequency_dict = {}\n",
        "    for word in word_list:\n",
        "        if word in frequency_dict:\n",
        "            frequency_dict[word] += 1\n",
        "        else:\n",
        "            frequency_dict[word] = 1\n",
        "    return frequency_dict\n",
        "\n",
        "# Test the function\n",
        "sample_list = [\"apple\", \"banana\", \"apple\", \"orange\", \"banana\", \"apple\"]\n",
        "frequencies = word_frequencies(sample_list)\n",
        "print(f'The word frequencies are: {frequencies}')\n"
      ],
      "metadata": {
        "colab": {
          "base_uri": "https://localhost:8080/"
        },
        "id": "zLb4lmS0mscl",
        "outputId": "d8108516-8076-4e77-ab93-8afd7b73512d"
      },
      "execution_count": 39,
      "outputs": [
        {
          "output_type": "stream",
          "name": "stdout",
          "text": [
            "The word frequencies are: {'apple': 3, 'banana': 2, 'orange': 1}\n"
          ]
        }
      ]
    },
    {
      "cell_type": "code",
      "source": [
        "## QUES 32) Write a code that takes two dictionaries as input and merges them into a single dictionary. If there are\n",
        "# common keys, the values should be added together.\n",
        "def merge_dictionaries(dict1, dict2):\n",
        "    merged_dict = dict1.copy()  # Start with a copy of the first dictionary\n",
        "    for key, value in dict2.items():\n",
        "        if key in merged_dict:\n",
        "            merged_dict[key] += value  # Add the values if the key exists in both dictionaries\n",
        "        else:\n",
        "            merged_dict[key] = value  # Add the key-value pair if the key is only in the second dictionary\n",
        "    return merged_dict\n",
        "\n",
        "# Test the function\n",
        "dict1 = {'a': 1, 'b': 2, 'c': 3}\n",
        "dict2 = {'b': 3, 'c': 4, 'd': 5}\n",
        "merged_dict = merge_dictionaries(dict1, dict2)\n",
        "print(f'The merged dictionary is: {merged_dict}')\n"
      ],
      "metadata": {
        "colab": {
          "base_uri": "https://localhost:8080/"
        },
        "id": "xDw2hPMToTWT",
        "outputId": "c073fb2f-c311-47b8-88ce-681473b0ea9f"
      },
      "execution_count": 40,
      "outputs": [
        {
          "output_type": "stream",
          "name": "stdout",
          "text": [
            "The merged dictionary is: {'a': 1, 'b': 5, 'c': 7, 'd': 5}\n"
          ]
        }
      ]
    },
    {
      "cell_type": "code",
      "source": [
        "## QUES 33)Write a code to access a value in a nested dictionary. The function should take the dictionary and a list of\n",
        "# keys as input, and return the corresponding value. If any of the keys do not exist in the dictionary, the\n",
        "# function should return None.\n",
        "def get_nested_value(dictionary, keys):\n",
        "    current_value = dictionary\n",
        "    for key in keys:\n",
        "        if isinstance(current_value, dict) and key in current_value:\n",
        "            current_value = current_value[key]\n",
        "        else:\n",
        "            return None\n",
        "    return current_value\n",
        "\n",
        "# Test the function\n",
        "nested_dict = {\n",
        "    'a': {'b': {'c': 42}},\n",
        "    'd': {'e': {'f': 100}}\n",
        "}\n",
        "keys = ['a', 'b', 'c']\n",
        "value = get_nested_value(nested_dict, keys)\n",
        "print(f'The value for the keys {keys} is: {value}')\n"
      ],
      "metadata": {
        "colab": {
          "base_uri": "https://localhost:8080/"
        },
        "id": "vZ6Wd_lXopXl",
        "outputId": "e44931f9-d265-447c-897b-0b880dabb000"
      },
      "execution_count": 41,
      "outputs": [
        {
          "output_type": "stream",
          "name": "stdout",
          "text": [
            "The value for the keys ['a', 'b', 'c'] is: 42\n"
          ]
        }
      ]
    },
    {
      "cell_type": "code",
      "source": [
        "## QUES 34) Write a code that takes a dictionary as input and returns a sorted version of it based on the values. You\n",
        "# can choose whether to sort in ascending or descending order.\n",
        "def sort_dict_by_values(dictionary, ascending=True):\n",
        "    sorted_dict = dict(sorted(dictionary.items(), key=lambda item: item[1], reverse=not ascending))\n",
        "    return sorted_dict\n",
        "\n",
        "# Test the function\n",
        "sample_dict = {'apple': 5, 'banana': 2, 'cherry': 8, 'date': 3}\n",
        "sorted_asc = sort_dict_by_values(sample_dict, ascending=True)\n",
        "sorted_desc = sort_dict_by_values(sample_dict, ascending=False)\n",
        "\n",
        "print(f'The dictionary sorted in ascending order: {sorted_asc}')\n",
        "print(f'The dictionary sorted in descending order: {sorted_desc}')\n"
      ],
      "metadata": {
        "colab": {
          "base_uri": "https://localhost:8080/"
        },
        "id": "M1TnAqzyo6p0",
        "outputId": "e1101b21-a764-40d1-f470-75a0b6c644d3"
      },
      "execution_count": 42,
      "outputs": [
        {
          "output_type": "stream",
          "name": "stdout",
          "text": [
            "The dictionary sorted in ascending order: {'banana': 2, 'date': 3, 'apple': 5, 'cherry': 8}\n",
            "The dictionary sorted in descending order: {'cherry': 8, 'apple': 5, 'date': 3, 'banana': 2}\n"
          ]
        }
      ]
    },
    {
      "cell_type": "code",
      "source": [
        "## QUES 35) Write a code that inverts a dictionary, swapping keys and values. Ensure that the inverted dictionary\n",
        "# correctly handles cases where multiple keys have the same value by storing the keys as a list in the\n",
        "# inverted dictionary.\n",
        "def invert_dictionary(dictionary):\n",
        "    inverted_dict = {}\n",
        "    for key, value in dictionary.items():\n",
        "        if value in inverted_dict:\n",
        "            inverted_dict[value].append(key)\n",
        "        else:\n",
        "            inverted_dict[value] = [key]\n",
        "    return inverted_dict\n",
        "\n",
        "# Test the function\n",
        "sample_dict = {'a': 1, 'b': 2, 'c': 1, 'd': 3, 'e': 2}\n",
        "inverted_dict = invert_dictionary(sample_dict)\n",
        "print(f'The inverted dictionary is: {inverted_dict}')\n"
      ],
      "metadata": {
        "colab": {
          "base_uri": "https://localhost:8080/"
        },
        "id": "Za4J765lpI8A",
        "outputId": "3917288d-8d85-4564-997e-6752c065e5e7"
      },
      "execution_count": 43,
      "outputs": [
        {
          "output_type": "stream",
          "name": "stdout",
          "text": [
            "The inverted dictionary is: {1: ['a', 'c'], 2: ['b', 'e'], 3: ['d']}\n"
          ]
        }
      ]
    }
  ]
}